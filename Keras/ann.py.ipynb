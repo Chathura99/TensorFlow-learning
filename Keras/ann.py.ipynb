{
 "cells": [
  {
   "cell_type": "code",
   "execution_count": 1,
   "id": "1b8ca45e",
   "metadata": {},
   "outputs": [],
   "source": [
    "# Part 1 - Data Preprocessing\n",
    "\n",
    "# Importing the libraries\n",
    "import numpy as np\n",
    "import matplotlib.pyplot as plt\n",
    "import pandas as pd"
   ]
  },
  {
   "cell_type": "code",
   "execution_count": 2,
   "id": "ff0c53e1",
   "metadata": {},
   "outputs": [],
   "source": [
    "# Importing the dataset\n",
    "dataset = pd.read_csv('Churn_Modelling.csv')\n",
    "X = dataset.iloc[:, 3:13]\n",
    "y = dataset.iloc[:, 13]"
   ]
  },
  {
   "cell_type": "code",
   "execution_count": 3,
   "id": "09820dd0",
   "metadata": {},
   "outputs": [],
   "source": [
    "#Create dummy variables\n",
    "geography=pd.get_dummies(X[\"Geography\"],drop_first=True)\n",
    "gender=pd.get_dummies(X['Gender'],drop_first=True)"
   ]
  },
  {
   "cell_type": "code",
   "execution_count": 4,
   "id": "3688acc9",
   "metadata": {},
   "outputs": [],
   "source": [
    "## Concatenate the Data Frames\n",
    "X=pd.concat([X,geography,gender],axis=1)"
   ]
  },
  {
   "cell_type": "code",
   "execution_count": 5,
   "id": "0eee8de0",
   "metadata": {},
   "outputs": [],
   "source": [
    "## Drop Unnecessary columns\n",
    "X=X.drop(['Geography','Gender'],axis=1)"
   ]
  },
  {
   "cell_type": "code",
   "execution_count": 6,
   "id": "61a7e285",
   "metadata": {},
   "outputs": [],
   "source": [
    "# Splitting the dataset into the Training set and Test set\n",
    "from sklearn.model_selection import train_test_split\n",
    "X_train, X_test, y_train, y_test = train_test_split(X, y, test_size = 0.2, random_state = 0)\n"
   ]
  },
  {
   "cell_type": "code",
   "execution_count": 7,
   "id": "e9e0b6d5",
   "metadata": {},
   "outputs": [],
   "source": [
    "# Feature Scaling\n",
    "from sklearn.preprocessing import StandardScaler\n",
    "sc = StandardScaler()\n",
    "X_train = sc.fit_transform(X_train)\n",
    "X_test = sc.transform(X_test)"
   ]
  },
  {
   "cell_type": "code",
   "execution_count": 8,
   "id": "2a06bd16",
   "metadata": {},
   "outputs": [],
   "source": [
    "# Importing the Keras libraries and packages\n",
    "import keras\n",
    "from keras.models import Sequential\n",
    "from keras.layers import Dense\n",
    "# from keras.layers import LeakyReLU,PReLU,ELU\n",
    "# from keras.layers import Dropout"
   ]
  },
  {
   "cell_type": "code",
   "execution_count": 11,
   "id": "bd393860",
   "metadata": {},
   "outputs": [],
   "source": [
    "# Initialising the ANN\n",
    "classifier = Sequential()\n",
    "\n",
    "# Adding the input layer and the first hidden layer\n",
    "classifier.add(Dense(units = 6, kernel_initializer = 'he_uniform',activation='relu',input_dim = 11))\n",
    "\n",
    "# Adding the second hidden layer\n",
    "classifier.add(Dense(units = 6, kernel_initializer = 'he_uniform',activation='relu'))\n",
    "# Adding the output layer\n",
    "classifier.add(Dense(units = 1, kernel_initializer = 'glorot_uniform', activation = 'sigmoid'))"
   ]
  },
  {
   "cell_type": "code",
   "execution_count": 12,
   "id": "3b0698a4",
   "metadata": {},
   "outputs": [],
   "source": [
    "# Compiling the ANN\n",
    "classifier.compile(optimizer = 'Adamax', loss = 'binary_crossentropy', metrics = ['accuracy'])"
   ]
  },
  {
   "cell_type": "code",
   "execution_count": 14,
   "id": "bffea190",
   "metadata": {},
   "outputs": [
    {
     "name": "stdout",
     "output_type": "stream",
     "text": [
      "Epoch 1/100\n",
      "536/536 [==============================] - 2s 2ms/step - loss: 0.5691 - accuracy: 0.7697 - val_loss: 0.5177 - val_accuracy: 0.7963\n",
      "Epoch 2/100\n",
      "536/536 [==============================] - 1s 2ms/step - loss: 0.5008 - accuracy: 0.7977 - val_loss: 0.4954 - val_accuracy: 0.7974\n",
      "Epoch 3/100\n",
      "536/536 [==============================] - 1s 2ms/step - loss: 0.4851 - accuracy: 0.7987 - val_loss: 0.4856 - val_accuracy: 0.7986\n",
      "Epoch 4/100\n",
      "536/536 [==============================] - 1s 2ms/step - loss: 0.4755 - accuracy: 0.7996 - val_loss: 0.4779 - val_accuracy: 0.7993\n",
      "Epoch 5/100\n",
      "536/536 [==============================] - 1s 2ms/step - loss: 0.4672 - accuracy: 0.8016 - val_loss: 0.4709 - val_accuracy: 0.8016\n",
      "Epoch 6/100\n",
      "536/536 [==============================] - 1s 2ms/step - loss: 0.4594 - accuracy: 0.8041 - val_loss: 0.4647 - val_accuracy: 0.8016\n",
      "Epoch 7/100\n",
      "536/536 [==============================] - 1s 2ms/step - loss: 0.4525 - accuracy: 0.8061 - val_loss: 0.4592 - val_accuracy: 0.8031\n",
      "Epoch 8/100\n",
      "536/536 [==============================] - 1s 2ms/step - loss: 0.4461 - accuracy: 0.8080 - val_loss: 0.4543 - val_accuracy: 0.8050\n",
      "Epoch 9/100\n",
      "536/536 [==============================] - 1s 2ms/step - loss: 0.4405 - accuracy: 0.8100 - val_loss: 0.4497 - val_accuracy: 0.8073\n",
      "Epoch 10/100\n",
      "536/536 [==============================] - 1s 2ms/step - loss: 0.4356 - accuracy: 0.8121 - val_loss: 0.4453 - val_accuracy: 0.8073\n",
      "Epoch 11/100\n",
      "536/536 [==============================] - 1s 2ms/step - loss: 0.4306 - accuracy: 0.8130 - val_loss: 0.4408 - val_accuracy: 0.8069\n",
      "Epoch 12/100\n",
      "536/536 [==============================] - 1s 2ms/step - loss: 0.4258 - accuracy: 0.8136 - val_loss: 0.4368 - val_accuracy: 0.8080\n",
      "Epoch 13/100\n",
      "536/536 [==============================] - 1s 2ms/step - loss: 0.4213 - accuracy: 0.8155 - val_loss: 0.4327 - val_accuracy: 0.8080\n",
      "Epoch 14/100\n",
      "536/536 [==============================] - 1s 2ms/step - loss: 0.4173 - accuracy: 0.8156 - val_loss: 0.4292 - val_accuracy: 0.8092\n",
      "Epoch 15/100\n",
      "536/536 [==============================] - 1s 2ms/step - loss: 0.4136 - accuracy: 0.8166 - val_loss: 0.4256 - val_accuracy: 0.8107\n",
      "Epoch 16/100\n",
      "536/536 [==============================] - 1s 2ms/step - loss: 0.4099 - accuracy: 0.8182 - val_loss: 0.4221 - val_accuracy: 0.8111\n",
      "Epoch 17/100\n",
      "536/536 [==============================] - 1s 2ms/step - loss: 0.4065 - accuracy: 0.8184 - val_loss: 0.4188 - val_accuracy: 0.8122\n",
      "Epoch 18/100\n",
      "536/536 [==============================] - 1s 2ms/step - loss: 0.4030 - accuracy: 0.8196 - val_loss: 0.4156 - val_accuracy: 0.8118\n",
      "Epoch 19/100\n",
      "536/536 [==============================] - 1s 2ms/step - loss: 0.3997 - accuracy: 0.8199 - val_loss: 0.4124 - val_accuracy: 0.8122\n",
      "Epoch 20/100\n",
      "536/536 [==============================] - 1s 2ms/step - loss: 0.3964 - accuracy: 0.8207 - val_loss: 0.4093 - val_accuracy: 0.8129\n",
      "Epoch 21/100\n",
      "536/536 [==============================] - 1s 2ms/step - loss: 0.3933 - accuracy: 0.8205 - val_loss: 0.4066 - val_accuracy: 0.8137\n",
      "Epoch 22/100\n",
      "536/536 [==============================] - 1s 2ms/step - loss: 0.3905 - accuracy: 0.8203 - val_loss: 0.4037 - val_accuracy: 0.8141\n",
      "Epoch 23/100\n",
      "536/536 [==============================] - 1s 2ms/step - loss: 0.3880 - accuracy: 0.8199 - val_loss: 0.4013 - val_accuracy: 0.8145\n",
      "Epoch 24/100\n",
      "536/536 [==============================] - 1s 2ms/step - loss: 0.3860 - accuracy: 0.8197 - val_loss: 0.3990 - val_accuracy: 0.8145\n",
      "Epoch 25/100\n",
      "536/536 [==============================] - 1s 2ms/step - loss: 0.3840 - accuracy: 0.8210 - val_loss: 0.3968 - val_accuracy: 0.8152\n",
      "Epoch 26/100\n",
      "536/536 [==============================] - 1s 3ms/step - loss: 0.3820 - accuracy: 0.8209 - val_loss: 0.3948 - val_accuracy: 0.8152\n",
      "Epoch 27/100\n",
      "536/536 [==============================] - 1s 2ms/step - loss: 0.3803 - accuracy: 0.8207 - val_loss: 0.3927 - val_accuracy: 0.8156\n",
      "Epoch 28/100\n",
      "536/536 [==============================] - 1s 2ms/step - loss: 0.3784 - accuracy: 0.8210 - val_loss: 0.3908 - val_accuracy: 0.8152\n",
      "Epoch 29/100\n",
      "536/536 [==============================] - 1s 2ms/step - loss: 0.3765 - accuracy: 0.8210 - val_loss: 0.3892 - val_accuracy: 0.8156\n",
      "Epoch 30/100\n",
      "536/536 [==============================] - 1s 2ms/step - loss: 0.3749 - accuracy: 0.8209 - val_loss: 0.3876 - val_accuracy: 0.8156\n",
      "Epoch 31/100\n",
      "536/536 [==============================] - 1s 2ms/step - loss: 0.3734 - accuracy: 0.8214 - val_loss: 0.3862 - val_accuracy: 0.8156\n",
      "Epoch 32/100\n",
      "536/536 [==============================] - 1s 2ms/step - loss: 0.3718 - accuracy: 0.8220 - val_loss: 0.3849 - val_accuracy: 0.8156\n",
      "Epoch 33/100\n",
      "536/536 [==============================] - 1s 2ms/step - loss: 0.3706 - accuracy: 0.8220 - val_loss: 0.3834 - val_accuracy: 0.8145\n",
      "Epoch 34/100\n",
      "536/536 [==============================] - 1s 2ms/step - loss: 0.3693 - accuracy: 0.8218 - val_loss: 0.3823 - val_accuracy: 0.8152\n",
      "Epoch 35/100\n",
      "536/536 [==============================] - 1s 2ms/step - loss: 0.3681 - accuracy: 0.8210 - val_loss: 0.3812 - val_accuracy: 0.8156\n",
      "Epoch 36/100\n",
      "536/536 [==============================] - 1s 2ms/step - loss: 0.3670 - accuracy: 0.8225 - val_loss: 0.3802 - val_accuracy: 0.8167\n",
      "Epoch 37/100\n",
      "536/536 [==============================] - 1s 2ms/step - loss: 0.3659 - accuracy: 0.8291 - val_loss: 0.3792 - val_accuracy: 0.8228\n",
      "Epoch 38/100\n",
      "536/536 [==============================] - 1s 2ms/step - loss: 0.3649 - accuracy: 0.8313 - val_loss: 0.3783 - val_accuracy: 0.8228\n",
      "Epoch 39/100\n",
      "536/536 [==============================] - 1s 2ms/step - loss: 0.3638 - accuracy: 0.8315 - val_loss: 0.3772 - val_accuracy: 0.8258\n",
      "Epoch 40/100\n",
      "536/536 [==============================] - 1s 2ms/step - loss: 0.3628 - accuracy: 0.8337 - val_loss: 0.3766 - val_accuracy: 0.8247\n",
      "Epoch 41/100\n",
      "536/536 [==============================] - 1s 2ms/step - loss: 0.3620 - accuracy: 0.8337 - val_loss: 0.3757 - val_accuracy: 0.8273\n",
      "Epoch 42/100\n",
      "536/536 [==============================] - 1s 2ms/step - loss: 0.3611 - accuracy: 0.8343 - val_loss: 0.3750 - val_accuracy: 0.8304\n",
      "Epoch 43/100\n",
      "536/536 [==============================] - 1s 2ms/step - loss: 0.3602 - accuracy: 0.8371 - val_loss: 0.3742 - val_accuracy: 0.8334\n",
      "Epoch 44/100\n",
      "536/536 [==============================] - 1s 2ms/step - loss: 0.3594 - accuracy: 0.8397 - val_loss: 0.3736 - val_accuracy: 0.8353\n",
      "Epoch 45/100\n",
      "536/536 [==============================] - 1s 2ms/step - loss: 0.3586 - accuracy: 0.8405 - val_loss: 0.3730 - val_accuracy: 0.8364\n",
      "Epoch 46/100\n",
      "536/536 [==============================] - 1s 2ms/step - loss: 0.3577 - accuracy: 0.8433 - val_loss: 0.3723 - val_accuracy: 0.8353\n",
      "Epoch 47/100\n",
      "536/536 [==============================] - 1s 2ms/step - loss: 0.3569 - accuracy: 0.8434 - val_loss: 0.3717 - val_accuracy: 0.8353\n",
      "Epoch 48/100\n",
      "536/536 [==============================] - 1s 2ms/step - loss: 0.3561 - accuracy: 0.8440 - val_loss: 0.3712 - val_accuracy: 0.8398\n",
      "Epoch 49/100\n",
      "536/536 [==============================] - 1s 2ms/step - loss: 0.3553 - accuracy: 0.8477 - val_loss: 0.3710 - val_accuracy: 0.8398\n",
      "Epoch 50/100\n",
      "536/536 [==============================] - 1s 2ms/step - loss: 0.3545 - accuracy: 0.8481 - val_loss: 0.3704 - val_accuracy: 0.8413\n",
      "Epoch 51/100\n",
      "536/536 [==============================] - 1s 2ms/step - loss: 0.3537 - accuracy: 0.8498 - val_loss: 0.3700 - val_accuracy: 0.8410\n",
      "Epoch 52/100\n",
      "536/536 [==============================] - 1s 2ms/step - loss: 0.3530 - accuracy: 0.8490 - val_loss: 0.3695 - val_accuracy: 0.8429\n",
      "Epoch 53/100\n",
      "536/536 [==============================] - 1s 2ms/step - loss: 0.3522 - accuracy: 0.8531 - val_loss: 0.3693 - val_accuracy: 0.8425\n",
      "Epoch 54/100\n",
      "536/536 [==============================] - 1s 2ms/step - loss: 0.3516 - accuracy: 0.8533 - val_loss: 0.3687 - val_accuracy: 0.8444\n",
      "Epoch 55/100\n",
      "536/536 [==============================] - 1s 2ms/step - loss: 0.3510 - accuracy: 0.8533 - val_loss: 0.3684 - val_accuracy: 0.8455\n",
      "Epoch 56/100\n",
      "536/536 [==============================] - 1s 2ms/step - loss: 0.3504 - accuracy: 0.8535 - val_loss: 0.3678 - val_accuracy: 0.8478\n",
      "Epoch 57/100\n",
      "536/536 [==============================] - 1s 2ms/step - loss: 0.3497 - accuracy: 0.8546 - val_loss: 0.3673 - val_accuracy: 0.8485\n"
     ]
    },
    {
     "name": "stdout",
     "output_type": "stream",
     "text": [
      "Epoch 58/100\n",
      "536/536 [==============================] - 1s 2ms/step - loss: 0.3492 - accuracy: 0.8530 - val_loss: 0.3669 - val_accuracy: 0.8493\n",
      "Epoch 59/100\n",
      "536/536 [==============================] - 1s 2ms/step - loss: 0.3486 - accuracy: 0.8545 - val_loss: 0.3667 - val_accuracy: 0.8508\n",
      "Epoch 60/100\n",
      "536/536 [==============================] - 1s 2ms/step - loss: 0.3483 - accuracy: 0.8543 - val_loss: 0.3665 - val_accuracy: 0.8516\n",
      "Epoch 61/100\n",
      "536/536 [==============================] - 1s 2ms/step - loss: 0.3476 - accuracy: 0.8539 - val_loss: 0.3663 - val_accuracy: 0.8516\n",
      "Epoch 62/100\n",
      "536/536 [==============================] - 1s 2ms/step - loss: 0.3472 - accuracy: 0.8535 - val_loss: 0.3662 - val_accuracy: 0.8527\n",
      "Epoch 63/100\n",
      "536/536 [==============================] - 1s 2ms/step - loss: 0.3466 - accuracy: 0.8548 - val_loss: 0.3660 - val_accuracy: 0.8519\n",
      "Epoch 64/100\n",
      "536/536 [==============================] - 1s 2ms/step - loss: 0.3464 - accuracy: 0.8554 - val_loss: 0.3656 - val_accuracy: 0.8527\n",
      "Epoch 65/100\n",
      "536/536 [==============================] - 1s 2ms/step - loss: 0.3459 - accuracy: 0.8554 - val_loss: 0.3653 - val_accuracy: 0.8512\n",
      "Epoch 66/100\n",
      "536/536 [==============================] - 1s 2ms/step - loss: 0.3453 - accuracy: 0.8561 - val_loss: 0.3650 - val_accuracy: 0.8535\n",
      "Epoch 67/100\n",
      "536/536 [==============================] - 1s 2ms/step - loss: 0.3450 - accuracy: 0.8572 - val_loss: 0.3649 - val_accuracy: 0.8538\n",
      "Epoch 68/100\n",
      "536/536 [==============================] - 1s 2ms/step - loss: 0.3447 - accuracy: 0.8571 - val_loss: 0.3646 - val_accuracy: 0.8550\n",
      "Epoch 69/100\n",
      "536/536 [==============================] - 1s 2ms/step - loss: 0.3442 - accuracy: 0.8565 - val_loss: 0.3645 - val_accuracy: 0.8542\n",
      "Epoch 70/100\n",
      "536/536 [==============================] - 1s 2ms/step - loss: 0.3438 - accuracy: 0.8552 - val_loss: 0.3642 - val_accuracy: 0.8554\n",
      "Epoch 71/100\n",
      "536/536 [==============================] - 1s 2ms/step - loss: 0.3435 - accuracy: 0.8559 - val_loss: 0.3641 - val_accuracy: 0.8554\n",
      "Epoch 72/100\n",
      "536/536 [==============================] - 1s 2ms/step - loss: 0.3431 - accuracy: 0.8574 - val_loss: 0.3638 - val_accuracy: 0.8550\n",
      "Epoch 73/100\n",
      "536/536 [==============================] - 1s 2ms/step - loss: 0.3428 - accuracy: 0.8569 - val_loss: 0.3634 - val_accuracy: 0.8557\n",
      "Epoch 74/100\n",
      "536/536 [==============================] - 1s 2ms/step - loss: 0.3424 - accuracy: 0.8569 - val_loss: 0.3630 - val_accuracy: 0.8557\n",
      "Epoch 75/100\n",
      "536/536 [==============================] - 1s 2ms/step - loss: 0.3421 - accuracy: 0.8580 - val_loss: 0.3627 - val_accuracy: 0.8565\n",
      "Epoch 76/100\n",
      "536/536 [==============================] - 1s 2ms/step - loss: 0.3418 - accuracy: 0.8586 - val_loss: 0.3624 - val_accuracy: 0.8565\n",
      "Epoch 77/100\n",
      "536/536 [==============================] - 1s 2ms/step - loss: 0.3415 - accuracy: 0.8587 - val_loss: 0.3623 - val_accuracy: 0.8565\n",
      "Epoch 78/100\n",
      "536/536 [==============================] - 1s 2ms/step - loss: 0.3413 - accuracy: 0.8587 - val_loss: 0.3623 - val_accuracy: 0.8565\n",
      "Epoch 79/100\n",
      "536/536 [==============================] - 1s 2ms/step - loss: 0.3410 - accuracy: 0.8593 - val_loss: 0.3622 - val_accuracy: 0.8561\n",
      "Epoch 80/100\n",
      "536/536 [==============================] - 1s 3ms/step - loss: 0.3409 - accuracy: 0.8595 - val_loss: 0.3622 - val_accuracy: 0.8550\n",
      "Epoch 81/100\n",
      "536/536 [==============================] - 1s 2ms/step - loss: 0.3406 - accuracy: 0.8582 - val_loss: 0.3623 - val_accuracy: 0.8569\n",
      "Epoch 82/100\n",
      "536/536 [==============================] - 1s 2ms/step - loss: 0.3403 - accuracy: 0.8606 - val_loss: 0.3621 - val_accuracy: 0.8557\n",
      "Epoch 83/100\n",
      "536/536 [==============================] - 1s 2ms/step - loss: 0.3401 - accuracy: 0.8597 - val_loss: 0.3621 - val_accuracy: 0.8554\n",
      "Epoch 84/100\n",
      "536/536 [==============================] - 1s 2ms/step - loss: 0.3398 - accuracy: 0.8593 - val_loss: 0.3621 - val_accuracy: 0.8554\n",
      "Epoch 85/100\n",
      "536/536 [==============================] - 1s 2ms/step - loss: 0.3396 - accuracy: 0.8602 - val_loss: 0.3618 - val_accuracy: 0.8561\n",
      "Epoch 86/100\n",
      "536/536 [==============================] - 1s 2ms/step - loss: 0.3393 - accuracy: 0.8604 - val_loss: 0.3616 - val_accuracy: 0.8557\n",
      "Epoch 87/100\n",
      "536/536 [==============================] - 1s 2ms/step - loss: 0.3392 - accuracy: 0.8600 - val_loss: 0.3617 - val_accuracy: 0.8546\n",
      "Epoch 88/100\n",
      "536/536 [==============================] - 1s 2ms/step - loss: 0.3389 - accuracy: 0.8610 - val_loss: 0.3614 - val_accuracy: 0.8557\n",
      "Epoch 89/100\n",
      "536/536 [==============================] - 1s 2ms/step - loss: 0.3387 - accuracy: 0.8619 - val_loss: 0.3615 - val_accuracy: 0.8554\n",
      "Epoch 90/100\n",
      "536/536 [==============================] - 1s 2ms/step - loss: 0.3384 - accuracy: 0.8614 - val_loss: 0.3614 - val_accuracy: 0.8546\n",
      "Epoch 91/100\n",
      "536/536 [==============================] - 2s 3ms/step - loss: 0.3383 - accuracy: 0.8623 - val_loss: 0.3613 - val_accuracy: 0.8550\n",
      "Epoch 92/100\n",
      "536/536 [==============================] - 1s 2ms/step - loss: 0.3379 - accuracy: 0.8617 - val_loss: 0.3616 - val_accuracy: 0.8538\n",
      "Epoch 93/100\n",
      "536/536 [==============================] - 1s 2ms/step - loss: 0.3377 - accuracy: 0.8602 - val_loss: 0.3615 - val_accuracy: 0.8538\n",
      "Epoch 94/100\n",
      "536/536 [==============================] - 1s 2ms/step - loss: 0.3378 - accuracy: 0.8615 - val_loss: 0.3614 - val_accuracy: 0.8550\n",
      "Epoch 95/100\n",
      "536/536 [==============================] - 1s 2ms/step - loss: 0.3376 - accuracy: 0.8619 - val_loss: 0.3611 - val_accuracy: 0.8554\n",
      "Epoch 96/100\n",
      "536/536 [==============================] - 1s 2ms/step - loss: 0.3373 - accuracy: 0.8615 - val_loss: 0.3611 - val_accuracy: 0.8550\n",
      "Epoch 97/100\n",
      "536/536 [==============================] - 1s 2ms/step - loss: 0.3373 - accuracy: 0.8619 - val_loss: 0.3609 - val_accuracy: 0.8557\n",
      "Epoch 98/100\n",
      "536/536 [==============================] - 1s 2ms/step - loss: 0.3368 - accuracy: 0.8615 - val_loss: 0.3609 - val_accuracy: 0.8550\n",
      "Epoch 99/100\n",
      "536/536 [==============================] - 1s 2ms/step - loss: 0.3371 - accuracy: 0.8621 - val_loss: 0.3607 - val_accuracy: 0.8557\n",
      "Epoch 100/100\n",
      "536/536 [==============================] - 1s 2ms/step - loss: 0.3368 - accuracy: 0.8623 - val_loss: 0.3608 - val_accuracy: 0.8573\n"
     ]
    }
   ],
   "source": [
    "# Fitting the ANN to the Training set\n",
    "model_history=classifier.fit(X_train, y_train,validation_split=0.33, batch_size = 10, epochs = 100)"
   ]
  },
  {
   "cell_type": "code",
   "execution_count": 17,
   "id": "17660e16",
   "metadata": {},
   "outputs": [
    {
     "name": "stdout",
     "output_type": "stream",
     "text": [
      "dict_keys(['loss', 'accuracy', 'val_loss', 'val_accuracy'])\n"
     ]
    },
    {
     "data": {
      "image/png": "[encoded data removed]",
      "text/plain": [
       "<Figure size 432x288 with 1 Axes>"
      ]
     },
     "metadata": {
      "needs_background": "light"
     },
     "output_type": "display_data"
    }
   ],
   "source": [
    "# list all data in history\n",
    "\n",
    "print(model_history.history.keys())\n",
    "# summarize history for accuracy\n",
    "plt.plot(model_history.history['accuracy'])\n",
    "plt.plot(model_history.history['val_accuracy'])\n",
    "plt.title('model accuracy')\n",
    "plt.ylabel('accuracy')\n",
    "plt.xlabel('epoch')\n",
    "plt.legend(['train', 'test'], loc='upper left')\n",
    "plt.show()\n"
   ]
  },
  {
   "cell_type": "code",
   "execution_count": 18,
   "id": "6b038f9d",
   "metadata": {},
   "outputs": [
    {
     "data": {
      "image/png": "[encoded data removed]",
      "text/plain": [
       "<Figure size 432x288 with 1 Axes>"
      ]
     },
     "metadata": {
      "needs_background": "light"
     },
     "output_type": "display_data"
    }
   ],
   "source": [
    "# summarize history for loss\n",
    "plt.plot(model_history.history['loss'])\n",
    "plt.plot(model_history.history['val_loss'])\n",
    "plt.title('model loss')\n",
    "plt.ylabel('loss')\n",
    "plt.xlabel('epoch')\n",
    "plt.legend(['train', 'test'], loc='upper left')\n",
    "plt.show()"
   ]
  },
  {
   "cell_type": "code",
   "execution_count": 20,
   "id": "6f36a100",
   "metadata": {},
   "outputs": [
    {
     "name": "stdout",
     "output_type": "stream",
     "text": [
      "63/63 [==============================] - 0s 1ms/step\n"
     ]
    }
   ],
   "source": [
    "# Part 3 - Making the predictions and evaluating the model\n",
    "\n",
    "# Predicting the Test set results\n",
    "y_pred = classifier.predict(X_test)\n",
    "y_pred = (y_pred > 0.5)\n",
    "\n",
    "# Making the Confusion Matrix\n",
    "from sklearn.metrics import confusion_matrix\n",
    "cm = confusion_matrix(y_test, y_pred)\n",
    "\n",
    "# Calculate the Accuracy\n",
    "from sklearn.metrics import accuracy_score\n",
    "score=accuracy_score(y_pred,y_test)\n"
   ]
  },
  {
   "cell_type": "code",
   "execution_count": 21,
   "id": "809668d2",
   "metadata": {},
   "outputs": [],
   "source": [
    "# complete"
   ]
  }
 ],
 "metadata": {
  "kernelspec": {
   "display_name": "Python 3 (ipykernel)",
   "language": "python",
   "name": "python3"
  },
  "language_info": {
   "codemirror_mode": {
    "name": "ipython",
    "version": 3
   },
   "file_extension": ".py",
   "mimetype": "text/x-python",
   "name": "python",
   "nbconvert_exporter": "python",
   "pygments_lexer": "ipython3",
   "version": "3.10.4"
  }
 },
 "nbformat": 4,
 "nbformat_minor": 5
}
