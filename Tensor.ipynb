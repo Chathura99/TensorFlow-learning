{
 "cells": [
  {
   "cell_type": "code",
   "execution_count": 61,
   "id": "bd73386a",
   "metadata": {},
   "outputs": [],
   "source": [
    "import tensorflow as tf\n",
    "import matplotlib as plt\n",
    "\n",
    "# from tensorflow.examples.tutorials.mnist import input_data"
   ]
  },
  {
   "cell_type": "code",
   "execution_count": 62,
   "id": "7c7347fd",
   "metadata": {},
   "outputs": [],
   "source": [
    "# from tensorflow.keras.datasets import mnist"
   ]
  },
  {
   "cell_type": "code",
   "execution_count": 63,
   "id": "0d38c4af",
   "metadata": {},
   "outputs": [],
   "source": [
    "# fig, ax = plt.subplots(10, 10)"
   ]
  },
  {
   "cell_type": "code",
   "execution_count": 64,
   "id": "1c580a04",
   "metadata": {},
   "outputs": [],
   "source": [
    "a=tf.constant(3.0)\n",
    "b=tf.constant(5.0)\n",
    "c=a*b"
   ]
  },
  {
   "cell_type": "code",
   "execution_count": 65,
   "id": "8e3cf958",
   "metadata": {},
   "outputs": [],
   "source": [
    "# launch session\n",
    "# sess=tf.Session()"
   ]
  },
  {
   "cell_type": "code",
   "execution_count": 66,
   "id": "8dc65c2a",
   "metadata": {},
   "outputs": [],
   "source": [
    "# if above does not work\n",
    "tf.compat.v1.disable_eager_execution()\n",
    "sess = tf.compat.v1.Session()"
   ]
  },
  {
   "cell_type": "code",
   "execution_count": 67,
   "id": "12f2979f",
   "metadata": {},
   "outputs": [
    {
     "name": "stdout",
     "output_type": "stream",
     "text": [
      "15.0\n"
     ]
    }
   ],
   "source": [
    "print(sess.run(c))"
   ]
  },
  {
   "cell_type": "code",
   "execution_count": 68,
   "id": "4aaf449c",
   "metadata": {},
   "outputs": [
    {
     "name": "stdout",
     "output_type": "stream",
     "text": [
      "8.0\n"
     ]
    }
   ],
   "source": [
    "e=tf.add(a,b)\n",
    "print(sess.run(e))"
   ]
  },
  {
   "cell_type": "code",
   "execution_count": 69,
   "id": "7c7b035c",
   "metadata": {},
   "outputs": [],
   "source": [
    "x=tf.Variable(2.0)\n",
    "# update=tf.assign(a,100)\n",
    "# print(sess.run(update))"
   ]
  },
  {
   "cell_type": "code",
   "execution_count": 70,
   "id": "69f0a194",
   "metadata": {},
   "outputs": [
    {
     "name": "stdout",
     "output_type": "stream",
     "text": [
      "6.0\n",
      "12.0\n",
      "24.0\n",
      "48.0\n",
      "96.0\n"
     ]
    }
   ],
   "source": [
    "for _ in range(5) :\n",
    "    a=a*2\n",
    "    print(sess.run(a))\n",
    "    "
   ]
  },
  {
   "cell_type": "code",
   "execution_count": 82,
   "id": "149b89c1",
   "metadata": {},
   "outputs": [
    {
     "name": "stdout",
     "output_type": "stream",
     "text": [
      "15.0\n"
     ]
    }
   ],
   "source": [
    "import tensorflow.compat.v1 as tf\n",
    "tf.disable_v2_behavior()\n",
    "z = tf.placeholder(dtype=tf.float32)\n",
    "y=z*3\n",
    "print(sess.run(y,{z:5}))\n",
    "# print(sess.run(y,feed_dict={z:5}))"
   ]
  },
  {
   "cell_type": "code",
   "execution_count": 85,
   "id": "3999a081",
   "metadata": {},
   "outputs": [
    {
     "data": {
      "text/plain": [
       "[<tf.Operation 'Const' type=Const>,\n",
       " <tf.Operation 'Const_1' type=Const>,\n",
       " <tf.Operation 'mul' type=Mul>,\n",
       " <tf.Operation 'Const_2' type=Const>,\n",
       " <tf.Operation 'Const_3' type=Const>,\n",
       " <tf.Operation 'mul_1' type=Mul>,\n",
       " <tf.Operation 'Variable/Initializer/initial_value' type=Const>,\n",
       " <tf.Operation 'Variable' type=VarHandleOp>,\n",
       " <tf.Operation 'Variable/IsInitialized/VarIsInitializedOp' type=VarIsInitializedOp>,\n",
       " <tf.Operation 'Variable/Assign' type=AssignVariableOp>,\n",
       " <tf.Operation 'Variable/Read/ReadVariableOp' type=ReadVariableOp>,\n",
       " <tf.Operation 'mul_2/y' type=Const>,\n",
       " <tf.Operation 'mul_2' type=Mul>,\n",
       " <tf.Operation 'mul_3/y' type=Const>,\n",
       " <tf.Operation 'mul_3' type=Mul>,\n",
       " <tf.Operation 'mul_4/y' type=Const>,\n",
       " <tf.Operation 'mul_4' type=Mul>,\n",
       " <tf.Operation 'mul_5/y' type=Const>,\n",
       " <tf.Operation 'mul_5' type=Mul>,\n",
       " <tf.Operation 'mul_6/y' type=Const>,\n",
       " <tf.Operation 'mul_6' type=Mul>,\n",
       " <tf.Operation 'mul_7/y' type=Const>,\n",
       " <tf.Operation 'mul_7' type=Mul>,\n",
       " <tf.Operation 'mul_8/y' type=Const>,\n",
       " <tf.Operation 'mul_8' type=Mul>,\n",
       " <tf.Operation 'mul_9/y' type=Const>,\n",
       " <tf.Operation 'mul_9' type=Mul>,\n",
       " <tf.Operation 'mul_10/y' type=Const>,\n",
       " <tf.Operation 'mul_10' type=Mul>,\n",
       " <tf.Operation 'mul_11/y' type=Const>,\n",
       " <tf.Operation 'mul_11' type=Mul>,\n",
       " <tf.Operation 'mul_12/y' type=Const>,\n",
       " <tf.Operation 'mul_12' type=Mul>,\n",
       " <tf.Operation 'Const_4' type=Const>,\n",
       " <tf.Operation 'Const_5' type=Const>,\n",
       " <tf.Operation 'mul_13' type=Mul>,\n",
       " <tf.Operation 'Add' type=AddV2>,\n",
       " <tf.Operation 'mul_14/y' type=Const>,\n",
       " <tf.Operation 'mul_14' type=Mul>,\n",
       " <tf.Operation 'mul_15/y' type=Const>,\n",
       " <tf.Operation 'mul_15' type=Mul>,\n",
       " <tf.Operation 'mul_16/y' type=Const>,\n",
       " <tf.Operation 'mul_16' type=Mul>,\n",
       " <tf.Operation 'mul_17/y' type=Const>,\n",
       " <tf.Operation 'mul_17' type=Mul>,\n",
       " <tf.Operation 'mul_18/y' type=Const>,\n",
       " <tf.Operation 'mul_18' type=Mul>,\n",
       " <tf.Operation 'mul_19/y' type=Const>,\n",
       " <tf.Operation 'mul_19' type=Mul>,\n",
       " <tf.Operation 'mul_20/y' type=Const>,\n",
       " <tf.Operation 'mul_20' type=Mul>,\n",
       " <tf.Operation 'mul_21/y' type=Const>,\n",
       " <tf.Operation 'mul_21' type=Mul>,\n",
       " <tf.Operation 'mul_22/y' type=Const>,\n",
       " <tf.Operation 'mul_22' type=Mul>,\n",
       " <tf.Operation 'mul_23/y' type=Const>,\n",
       " <tf.Operation 'mul_23' type=Mul>,\n",
       " <tf.Operation 'mul_24/y' type=Const>,\n",
       " <tf.Operation 'mul_24' type=Mul>,\n",
       " <tf.Operation 'mul_25/y' type=Const>,\n",
       " <tf.Operation 'mul_25' type=Mul>,\n",
       " <tf.Operation 'mul_26/y' type=Const>,\n",
       " <tf.Operation 'mul_26' type=Mul>,\n",
       " <tf.Operation 'mul_27/y' type=Const>,\n",
       " <tf.Operation 'mul_27' type=Mul>,\n",
       " <tf.Operation 'mul_28/y' type=Const>,\n",
       " <tf.Operation 'mul_28' type=Mul>,\n",
       " <tf.Operation 'Const_6' type=Const>,\n",
       " <tf.Operation 'Const_7' type=Const>,\n",
       " <tf.Operation 'mul_29' type=Mul>,\n",
       " <tf.Operation 'Add_1' type=AddV2>,\n",
       " <tf.Operation 'mul_30/y' type=Const>,\n",
       " <tf.Operation 'mul_30' type=Mul>,\n",
       " <tf.Operation 'mul_31/y' type=Const>,\n",
       " <tf.Operation 'mul_31' type=Mul>,\n",
       " <tf.Operation 'mul_32/y' type=Const>,\n",
       " <tf.Operation 'mul_32' type=Mul>,\n",
       " <tf.Operation 'mul_33/y' type=Const>,\n",
       " <tf.Operation 'mul_33' type=Mul>,\n",
       " <tf.Operation 'mul_34/y' type=Const>,\n",
       " <tf.Operation 'mul_34' type=Mul>,\n",
       " <tf.Operation 'Variable_1/Initializer/initial_value' type=Const>,\n",
       " <tf.Operation 'Variable_1' type=VarHandleOp>,\n",
       " <tf.Operation 'Variable_1/IsInitialized/VarIsInitializedOp' type=VarIsInitializedOp>,\n",
       " <tf.Operation 'Variable_1/Assign' type=AssignVariableOp>,\n",
       " <tf.Operation 'Variable_1/Read/ReadVariableOp' type=ReadVariableOp>,\n",
       " <tf.Operation 'Const_8' type=Const>,\n",
       " <tf.Operation 'Const_9' type=Const>,\n",
       " <tf.Operation 'mul_35' type=Mul>,\n",
       " <tf.Operation 'Add_2' type=AddV2>,\n",
       " <tf.Operation 'Variable_2/Initializer/initial_value' type=Const>,\n",
       " <tf.Operation 'Variable_2' type=VarHandleOp>,\n",
       " <tf.Operation 'Variable_2/IsInitialized/VarIsInitializedOp' type=VarIsInitializedOp>,\n",
       " <tf.Operation 'Variable_2/Assign' type=AssignVariableOp>,\n",
       " <tf.Operation 'Variable_2/Read/ReadVariableOp' type=ReadVariableOp>,\n",
       " <tf.Operation 'mul_36/y' type=Const>,\n",
       " <tf.Operation 'mul_36' type=Mul>,\n",
       " <tf.Operation 'mul_37/y' type=Const>,\n",
       " <tf.Operation 'mul_37' type=Mul>,\n",
       " <tf.Operation 'mul_38/y' type=Const>,\n",
       " <tf.Operation 'mul_38' type=Mul>,\n",
       " <tf.Operation 'mul_39/y' type=Const>,\n",
       " <tf.Operation 'mul_39' type=Mul>,\n",
       " <tf.Operation 'mul_40/y' type=Const>,\n",
       " <tf.Operation 'mul_40' type=Mul>,\n",
       " <tf.Operation 'Placeholder' type=Placeholder>,\n",
       " <tf.Operation 'Placeholder_1' type=Placeholder>,\n",
       " <tf.Operation 'mul_41/y' type=Const>,\n",
       " <tf.Operation 'mul_41' type=Mul>,\n",
       " <tf.Operation 'Placeholder_2' type=Placeholder>,\n",
       " <tf.Operation 'mul_42/y' type=Const>,\n",
       " <tf.Operation 'mul_42' type=Mul>,\n",
       " <tf.Operation 'Placeholder_3' type=Placeholder>,\n",
       " <tf.Operation 'mul_43/y' type=Const>,\n",
       " <tf.Operation 'mul_43' type=Mul>]"
      ]
     },
     "execution_count": 85,
     "metadata": {},
     "output_type": "execute_result"
    }
   ],
   "source": [
    "graph=tf.get_default_graph()\n",
    "graph.get_operations()"
   ]
  },
  {
   "cell_type": "code",
   "execution_count": 88,
   "id": "dcd47287",
   "metadata": {},
   "outputs": [],
   "source": [
    "var1=tf.constant(3.0, name=\"var1\")"
   ]
  },
  {
   "cell_type": "code",
   "execution_count": 93,
   "id": "e3068a23",
   "metadata": {},
   "outputs": [
    {
     "data": {
      "text/plain": [
       "[<tf.Operation 'Variable/Read/ReadVariableOp' type=ReadVariableOp>,\n",
       " <tf.Operation 'mul_2/y' type=Const>]"
      ]
     },
     "execution_count": 93,
     "metadata": {},
     "output_type": "execute_result"
    }
   ],
   "source": [
    "operations=graph.get_operations()\n",
    "# above all operations\n",
    "operations[10:12]"
   ]
  },
  {
   "cell_type": "code",
   "execution_count": null,
   "id": "04904082",
   "metadata": {},
   "outputs": [],
   "source": []
  }
 ],
 "metadata": {
  "kernelspec": {
   "display_name": "Python 3 (ipykernel)",
   "language": "python",
   "name": "python3"
  },
  "language_info": {
   "codemirror_mode": {
    "name": "ipython",
    "version": 3
   },
   "file_extension": ".py",
   "mimetype": "text/x-python",
   "name": "python",
   "nbconvert_exporter": "python",
   "pygments_lexer": "ipython3",
   "version": "3.10.4 (tags/v3.10.4:9d38120, Mar 23 2022, 23:13:41) [MSC v.1929 64 bit (AMD64)]"
  },
  "vscode": {
   "interpreter": {
    "hash": "27f6fea6f47ae512550f0b8facdbd035a93e1dd89633f7bf2dd00a2502c71d0d"
   }
  }
 },
 "nbformat": 4,
 "nbformat_minor": 5
}
