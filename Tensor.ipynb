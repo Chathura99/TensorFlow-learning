{
 "cells": [
  {
   "cell_type": "code",
   "execution_count": 1,
   "id": "bd73386a",
   "metadata": {},
   "outputs": [],
   "source": [
    "import tensorflow as tf\n",
    "import matplotlib as plt\n",
    "\n",
    "# from tensorflow.examples.tutorials.mnist import input_data"
   ]
  },
  {
   "cell_type": "code",
   "execution_count": 2,
   "id": "7c7347fd",
   "metadata": {},
   "outputs": [],
   "source": [
    "# from tensorflow.keras.datasets import mnist"
   ]
  },
  {
   "cell_type": "code",
   "execution_count": 3,
   "id": "0d38c4af",
   "metadata": {},
   "outputs": [],
   "source": [
    "# fig, ax = plt.subplots(10, 10)"
   ]
  },
  {
   "cell_type": "code",
   "execution_count": 8,
   "id": "1c580a04",
   "metadata": {},
   "outputs": [],
   "source": [
    "a=tf.constant(3.0)\n",
    "b=tf.constant(5.0)\n",
    "c=a*b"
   ]
  },
  {
   "cell_type": "code",
   "execution_count": 9,
   "id": "8e3cf958",
   "metadata": {},
   "outputs": [],
   "source": [
    "# launch session\n",
    "# sess=tf.Session()"
   ]
  },
  {
   "cell_type": "code",
   "execution_count": 10,
   "id": "8dc65c2a",
   "metadata": {},
   "outputs": [],
   "source": [
    "tf.compat.v1.disable_eager_execution()\n",
    "sess = tf.compat.v1.Session()"
   ]
  },
  {
   "cell_type": "code",
   "execution_count": 11,
   "id": "12f2979f",
   "metadata": {},
   "outputs": [
    {
     "name": "stdout",
     "output_type": "stream",
     "text": [
      "15.0\n"
     ]
    }
   ],
   "source": [
    "print(sess.run(c))"
   ]
  },
  {
   "cell_type": "code",
   "execution_count": null,
   "id": "4aaf449c",
   "metadata": {},
   "outputs": [],
   "source": []
  }
 ],
 "metadata": {
  "kernelspec": {
   "display_name": "Python 3.10.4 64-bit",
   "language": "python",
   "name": "python3"
  },
  "language_info": {
   "codemirror_mode": {
    "name": "ipython",
    "version": 3
   },
   "file_extension": ".py",
   "mimetype": "text/x-python",
   "name": "python",
   "nbconvert_exporter": "python",
   "pygments_lexer": "ipython3",
   "version": "3.10.4"
  },
  "vscode": {
   "interpreter": {
    "hash": "27f6fea6f47ae512550f0b8facdbd035a93e1dd89633f7bf2dd00a2502c71d0d"
   }
  }
 },
 "nbformat": 4,
 "nbformat_minor": 5
}
